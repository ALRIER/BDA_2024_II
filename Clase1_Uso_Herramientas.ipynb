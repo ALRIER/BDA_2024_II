{
  "nbformat": 4,
  "nbformat_minor": 0,
  "metadata": {
    "colab": {
      "provenance": [],
      "authorship_tag": "ABX9TyM//gANJxIEqj56/iwtYX0G",
      "include_colab_link": true
    },
    "kernelspec": {
      "name": "python3",
      "display_name": "Python 3"
    },
    "language_info": {
      "name": "python"
    }
  },
  "cells": [
    {
      "cell_type": "markdown",
      "metadata": {
        "id": "view-in-github",
        "colab_type": "text"
      },
      "source": [
        "<a href=\"https://colab.research.google.com/github/ALRIER/BDA_2024_II/blob/Isabel_Araque/Clase1_Uso_Herramientas.ipynb\" target=\"_parent\"><img src=\"https://colab.research.google.com/assets/colab-badge.svg\" alt=\"Open In Colab\"/></a>"
      ]
    },
    {
      "cell_type": "markdown",
      "source": [
        "# Prácticas de consumo de los coleccionistas de carros Hot Wheels en Colombia\n",
        "*Maria Isabel Araque Peñuela August 31, 2024*"
      ],
      "metadata": {
        "id": "atzDQrA9q-jk"
      }
    },
    {
      "cell_type": "markdown",
      "source": [
        "# Resumen\n",
        "\n",
        "El presente proyecto busca comprender las prácticas de consumo de los coleccionistas de carritos Hot Wheels entre los 25 a 45 años en Colombia. Lo anterior justificado por los cambios en el coleccionismo de los últimos años, el aumento de ventas en la categoría juguetes, la creciente disponibilidad de stock en los diferentes comercios, la creación de productos y servicios y los nuevos espacios digitales relacionados con esta práctica. Se analizará el gasto asociado, estatus, significados del consumo y rituales a través de un estudio cualitativo con triangulación de técnicas como la observación participante en los espacios de reunión, compra e intercambio de estos objetos de consumo, revisión etnográfica digital en Facebook y grupos de WhatsApp, y, por último, entrevistas a profundidad que permitirán recolectar información detallada sobre el individuo que colecciona estos artículos. Los datos serán analizados a través del modelo de la Teoría Fundamentada empleando el software N-Vivo.\n",
        "\n",
        "**Palabras clave:** *Prácticas de consumo, Coleccionismo de juguetes Hot Wheels, Coleccionistas en Colombia.*"
      ],
      "metadata": {
        "id": "AeuOveR5rlFp"
      }
    },
    {
      "cell_type": "markdown",
      "source": [
        "# Justificación\n",
        "\n",
        "El presente proyecto está enfocado en la interpretación y análisis de las prácticas de consumo de los coleccionistas de carros Hot Wheels, hombres y mujeres de 25 a 45 años en Colombia, según el más reciente informe de la empresa especializada en investigación de mercados e inteligencia de negocios, Informes de Expertos, en el país hay una creciente disponibilidad de stock en diversos almacenes de cadena, jugueterías especializadas y droguerías, este informe sobre el mercado de juguetes en Colombia, destaca que el tamaño del mercado creció significativamente en 2023 y se prevé que crezca a una tasa compuesta de crecimiento anual (TCAC) del 6,10% durante el periodo de previsión 2024-2032 en los que los principales canales de venta son: hipermercados, supermercados, tiendas especializadas, tiendas de conveniencia, online y otros (Informes de Expertos, 2024), esto ha permitido la creación de nuevos productos y servicios relacionados con este tipo de prácticas de consumo.\n",
        "\n",
        "Para comprender más a fondo este fenómeno de consumo y evidenciar su importancia, se partirá de las dinámicas más generales del coleccionismo. Para Gutiérrez (2021), “coleccionar no puede ser un capricho; esta actividad implica responsabilidades. Debemos entender a los coleccionistas como actores pensantes que generan valor”. El coleccionismo puede entenderse desde dos corrientes o tipos de coleccionistas, y la principal diferencia radica en la configuración de lo que podría llegar a considerar invaluable y digno de conservación en el tiempo. Además, el objetivo de la colección también marca una distinción entre el coleccionista tradicional y el contemporáneo:\n",
        "\n",
        "Antes los coleccionistas usaban vestidos de sastre, tenían sus propios agentes y estaban al tanto de todo lo que ocurriera, ahora quienes compran arte llevan puestos Converse, lo hacen sin intermediarios y se desviven por lo popular y lo urbano. Los coleccionistas de ahora no se apellidan Rockefeller, Casas, Gaviria o Malca. Tampoco son aristocráticos ni poderosos, no salen en las páginas sociales de las revistas ni son dueños de ningún país. A lo sumo lo son de su propio apartamento, que muy seguramente están pagando por cuotas, y al que decorarán cuidadosamente con obras de arte contemporáneo de artistas jóvenes, nuevos y desconocidos (Valencia, 2014).\n",
        "\n",
        "Figura 1: Consumidores de carros Hot Wheels.\n",
        "\n",
        "<img src=\"/media/Fotos/IMG_4365.JPEG\" alt=\"Consumidores\" width=\"500\"/>\n",
        "\n",
        "Figure 1: Consumidores en el Olimpica. Junio 2024, 06:24 pm, Olimpica de Plaza de las Americas en Bogotá\n",
        "\n",
        "Según los datos del informe de Arte Contemporáneo (ARCO), en 2017 el número de coleccionistas tradicionales en América Latina era de 100 individuos, de estos, el 70% eran hombres cuyas edades se encontraban principalmente entre los 40 y 65 años, “estos individuos se encuentran en plena madurez personal y profesional y se trata de reconocidos financieros, empresarios y profesionales liberales como abogados, arquitectos e ingenieros” (Artishock, 2020). Para el coleccionismo contemporáneo, según un estudio hecho por Larry’s List, una empresa editorial que ofrece datos, investigación y acceso a información sobre arte contemporáneo publica en su primer informe global sobre coleccionismo de arte contemporáneo en el año 2012 que “el número de coleccionistas de su base de datos se elevaba a 3.111 individuos. Asombra la poca información publicada documentando el coleccionismo de arte; de hecho, los coleccionistas particulares siguen siendo, sorprendentemente, un ámbito muy poco investigado” (Raquel, 2015)\n",
        "\n",
        "Figura 2: Coleccionistas de los años 60.\n",
        "\n",
        "<img src=\"/media/Fotos/coleccionistas_1.jpg\" alt=\"Coleccionistas60\" width=\"500\"/>\n",
        "\n",
        "Figure 2: Herb y Dorothy, coleccionistas de los años 60, lograron una colección de más de 4.000 obras de arte contemporáneo que luego fueron posteriormente valuadas en un valor millonario.\n",
        "\n",
        "Figura 3: Coleccionistas en el 2024\n",
        "\n",
        "<img src=\"/media/Fotos/IMG_5945.JPEG\" alt=\"Coleccionistas2024\" width=\"500\"/>\n",
        "\n",
        "Figure 3: Coleccionistas en el parque Nicolas de Federman, Bogotá, Agosto 09:53 am\n",
        "\n",
        "Las motivaciones detrás del coleccionismo pueden ser diversas según Villate (2023) algunas personas coleccionan por afición, interés en un tema en particular, por el valor económico de los objetos o simplemente el placer de poseerlos y disfrutarlos. Puede clasificarse como una acumulación organizada, dado que es crucial que los elementos a coleccionar mantengan cierta coherencia estética. Esta puede ser una actividad solitaria o social, en la que se comparten experiencias y conocimientos con otros aficionados de esta práctica.\n",
        "\n",
        "De acuerdo con Román (2018), el coleccionismo del juguete y del merchandising tuvo su inicio en los años 80, cuando George Lucas creador de la saga de Star Wars fuera un éxito en taquilla, lo que impulsó la comercialización en masa de figuras de acción producidas por la firma de juguetes Kenner. Estos juguetes de acción se han convertido en un fenómeno en la sociedad estadounidense. Como resultado, muchas personas empezaron a adquirir juguetes y productos relacionados con las películas, lo que dio lugar a un gran número de coleccionistas en todo el mundo, a partir de ese momento los juguetes dejaron de ser funcionales para convertirse en objetos que los coleccionistas exhibirían en sus vitrinas. (p.2)\n",
        "\n",
        "Figura 4: Vitrina de exhibición vivienda en Teusaquillo.\n",
        "\n",
        "<img src=\"/media/Fotos/Vitrina1.jpeg\" alt=\"Vitrina1\" width=\"500\"/>\n",
        "\n",
        "Figure 4: Vitrina de coleccionista ubicado en Teusaquillo\n",
        "\n",
        "Figura 5: Vitrina de exhibición vivienda en Suba\n",
        "\n",
        "<img src=\"//media/Fotos/Vitrina2.jpeg\" alt=\"Vitrina2\" width=\"500\"/>\n",
        "\n",
        "Figure 5: Vitrina de coleccionista ubicado en Suba\n",
        "\n",
        "Un ejemplo destacado es Bruce Pascal, considerado el mayor coleccionista de autos Hot Wheels en el mundo, posee más de 3.500 miniaturas y toda su colección está valorada en un millón de dólares” (Murias, 2016). Para cada coleccionista el objetivo de su colección es unica, es decir, que pueden existir millones de diferentes colecciones, sin embargo, las 3 formas más comunes conocidas por los coleccionistas de Hot Wheels son las presentadas en la siguiente figura:\n",
        "\n",
        "Figura 6:\n",
        "Mapa de tipos de colecciones.\n",
        "\n",
        "<img src=\"/media/Fotos/Coleccionistas_Kleine.png\" alt=\"mapa\" width=\"500\"/>\n",
        "\n",
        "Figure 6: Nota: Elaboración propia a partir de las variables establecidas por Ospina (2019). (a) La línea es la que identifica la familia de automóviles dentro de una misma marca, sin embargo, guardan la similitud en la construcción, carroceía, chasis, farolas, entre otros. (b) Esto significa que se producen nuevas versiones o modelos, estas actualizaciones responden a los estándares de calidad y últimos modelos García et al (1999). (c) Las ediciones especiales son el resul-\n",
        "tado de los productos audiovisuales existentes, es decir, el arte y el proceso de producciónn cinematográfico se convierte en un producto de mercadeo. (Romero,2019)\n",
        "\n",
        "Actualmente, existen numerosos blogs, páginas web, grupos de WhatsApp, Instagram y Facebook con miles de usuarios en Colombia, en estos espacios virtuales la práctica común es compartir comentarios respecto a los modelos de los carritos, comprar y vender, exhibir colecciones, ofrecer vitrinas o servicios relacionados, publicar contenido sobre las ediciones especiales, modelos y nuevos posibles carritos, entre otros. De este modo y para entender la magnitud de lo numerosas que pueden llegar a ser estas colecciones, hoy en día “nos encontramos con más de 20 mil diseños distintos de Hot Wheels (se suman unos 130 cada año) y por cada segundo que pasa se fabrican 17 Hot Wheels, al año esto representaría cerca de 519 millones de juguetes”. (Nungaray, 2023).\n",
        "\n",
        "Figura 7:\n",
        "Estado digital en Colombia para el 2023.\n",
        "\n",
        "<img src=\"/media/Fotos/Digital.JPG\" alt=\"Digital\" width=\"500\"/>\n",
        "\n",
        "Figure 7: Número de usuarios en redes sociales en Colombia\n",
        "\n",
        "Según el reporte de mercado latinoamericano de juguetes de Informes de Expertos “el mercado latinoamericano de juguetes alcanzó un valor de USD 4,006.68 millones en el año 2023. Se estima que el mercado crecerá a una tasa de crecimiento anual compuesta del 9,2% entre 2024 y 2032, para alcanzar un valor de 8,846.84 millones de USD en 2032” (Informes de Expertos, 2024)\n",
        "\n",
        "Figura 8:\n",
        "Precio actual de un carro basico Hot Wheels.\n",
        "\n",
        "<img src=\"/media/Fotos/Valor1.JPG\" alt=\"Valor\" width=\"500\"/>\n",
        "\n",
        "Figure 8: Precio de un carro en Carulla de la 90 en Bogotá\n",
        "\n",
        "\n",
        "En Colombia los almacenes de cadena y jugueterías con este producto en su catálogo son: Éxito, Olímpica, Carulla, Pepe Ganga, Farmatodo, Falabella, Jumbo, Alkosto. Además, la compra de estos carritos también se encuentra disponible en tiendas virtuales como: Mercado Libre, Linio, La Rebaja Virtual, Marketplace de Facebook, Instagram, entre otros canales virtuales. Como dato relevante estos mismos autos en Estados Unidos tienen un valor actual de 1,3 USD, sin embargo, en Colombia, estos carritos tienen un valor de 2,38 USD que corresponde a 9.590 COP, según la tasa de cambio vigente a agosto de 2024. Un coleccionista en promedio destina grandes cantidades de tiempo para buscar información sobre su colección y recorrer los diferentes puntos de venta para la compra del carrito de su preferencia, el presupuesto que puede llegar a invertir al mes en la compra, “si estamos hablando de coleccionar autos en escala de línea básica, mensualmente se pueden invertir unos 300.000 pesos. Esta cifra se eleva fácilmente por las ediciones especiales tan llamativas al momento de comprar” (Ospina, 2019)\n",
        "\n",
        "En el contexto del coleccionismo de carritos Hot Wheels, es fundamental entender cómo se clasifican los autos de escala 1:64, ya que esto influye directa y significativamente en su valor y demanda de los diferentes modelos:\n",
        "\n",
        "Es importante destacar que Hot Wheels clasifica sus categorías según su año de lanzamiento: los Vintage (antes de 1980), los Modernos (1980 a 1989) y los Actuales (1990 hasta ahora), además de otras subcategorías como Serie Básica, Especiales Básicos, Premium, Especiales Premium, Serie RLC, TH, STH, Versiones Exclusivas, los de convención y otros más disponibles para compradores de membresías de Mattel, cada categoría posee características y detalles específicos que pueden aumentar significativamente su valor en el mercado de los coleccionistas. (Escala Ecuador, 2019).\n",
        "\n",
        "Figura 9:\n",
        "Valor de la marca de los juguetes mas valiosos del mundo.\n",
        "\n",
        "<img src=\"/media/Fotos/Valor_2.png\" alt=\"Valor2\" width=\"500\"/>\n",
        "\n",
        "Figure 9: Valor de marca\n",
        "\n",
        "Aunque es evidente que este fenómeno del coleccionismo hace parte de nuestra estructura social e individual, apenas se está empezando a entender, existen pocos artículos que lo estudian desde una perspectiva psicológica social con temas como, la personalidad de los coleccionistas, los comportamientos de consumo y el coleccionismo como motivación económica, algunas conclusiones de estos artículos concluyen en la clasificación de tipologías de coleccionistas y sus diferentes motivaciones e intereses. La diversidad de categorías y características de los carros Hot Wheels, como su material, detalles específicos y exclusividad en ciertas ediciones, influyen significativamente en el valor y la demanda de estos productos, lo que resulta en un fenómeno de consumo digno de un análisis y comprensión más profundos.\n",
        "\n",
        "Figura 9:\n",
        "Mapa de análisis de texto por recurrencia de palabras.\n",
        "\n",
        "<img src=\"/media/Fotos/Coleccionismo_Palabras.png\" alt=\"coleccionismopalabras\" width=\"500\"/>\n",
        "\n",
        "Figure 10: Elaboración propia a partir de 225 artículos procesados en VOSviewer"
      ],
      "metadata": {
        "id": "2iAI-dTKrmW8"
      }
    },
    {
      "cell_type": "markdown",
      "source": [
        "# Referencias\n",
        "\n",
        "Adorno., T. (2014). El concepto de la industria cultural de re\u0002vista interior gr´afico de la divisi´on de arquitectura arte y dise˜no de la universidad de guanajuato. Retrieved from https:// interiorgrafico.com/edicion/segunda-edicion-interiorgrafico/ el-concepto-de-la-industria-cultural-de-theodor-adorno (Acce\u0002dido: 2022-08-30)\n",
        "\n",
        "Costa, I. P. (2007). El coleccionista y su tesoro: la colecci´on. Retrieved from https://www.semanticscholar.org/paper/ El-coleccionista-y-su-tesoro%3A-la-colecci%C3%B3n-Costa/ 1254b2de98e943bf026d14d8d2df962c8526962f (Accedido: 2022-08- 30)\n",
        "\n",
        "de Expertos, I. (2024). Mercado de juguetes en colombia. Re\u0002trieved from https://www.informesdeexpertos.com/informes/ mercado-de-juguetes-en-colombia (Accedido: 2022-08-30)\n",
        "\n",
        "Galeano Mar´ın, M. E. (2012). Estrategias de investigaci´on social cualitativa. edu.mx. Retrieved from https://biblioteca.colson.edu.mx/e-docs/ RED/Estrategias de investigacion social cualitativa.pdf (Acce\u0002dido: 2022-08-30)\n",
        "\n",
        "Kleine, P. T. . W. N., J. (2021). Collectors: Personality between consump\u0002tion and investment. Journal Of Behavioural And Experimental Finance, 32 (100566), 10. doi: https://doi.org/10.1016/j.jbef.2021.100566\n",
        "\n",
        "Mcintosh, . S. B., W. D. (2024). Collectors and collecting: A social psychological perspective. Leisure Sciences,, 26 (1), 85-97. doi: https://doi.org/10.1080/ 01490400490272639\n",
        "\n",
        "Raquel, G. O. (2015a). Todo lo que siempre quiso saber so\u0002bre el coleccionismo de arte contempor´aneo. Retrieved from 9 https://www.tendenciasdelarte.com/todo-lo-que-siempre-quiso -saber-sobre-el-coleccionismo-de-arte-contemporaneo/ (Acce\u0002dido: 2022-08-30)\n",
        "\n",
        "Raquel, G. O. (2015b). Todo lo que siempre quiso saber so\u0002bre el coleccionismo de arte contempor´aneo. Retrieved from https://www.tendenciasdelarte.com/todo-lo-que-siempre-quiso -saber-sobre-el-coleccionismo-de-arte-contemporaneo/ (Acce\u0002dido: 2022-08-30)\n",
        "\n",
        "Raquel, G. O. (2015c). Todo lo que siempre quiso saber so\u0002bre el coleccionismo de arte contempor´aneo. Retrieved from https://www.tendenciasdelarte.com/todo-lo-que-siempre-quiso -saber-sobre-el-coleccionismo-de-arte-contemporaneo/ (Acce\u0002dido: 2022-08-30)\n",
        "\n",
        "Raquel, G. O. (2015d). Todo lo que siempre quiso saber so\u0002bre el coleccionismo de arte contempor´aneo. Retrieved from https://www.tendenciasdelarte.com/todo-lo-que-siempre-quiso -saber-sobre-el-coleccionismo-de-arte-contemporaneo/ (Acce\u0002dido: 2022-08-30)\n",
        "\n",
        "Raquel, G. O. (2015e). Todo lo que siempre quiso saber so\u0002bre el coleccionismo de arte contempor´aneo. Retrieved from https://www.tendenciasdelarte.com/todo-lo-que-siempre-quiso -saber-sobre-el-coleccionismo-de-arte-contemporaneo/ (Acce\u0002dido: 2022-08-30)\n",
        "\n",
        "Salgado L´evano, A. C. (2007). Investigaci´on cualitativa: dise˜nos, evalu\u0002aci´on del rigor metodol´ogico y retos. Liberabit Revista Peruana de Psi\u0002colog´ıa,, 13 (13), 71-78. doi: http://www.scielo.org.pe/scielo.php?script= sci arttext&pid=S1729-48272007000100009\n",
        "\n",
        "Valencia, J. (2014). ¿qui´en compra arte en colombia? Re\u0002trieved from https://www.elpais.com.co/entretenimiento/cultura/ quien-compra-arte-en-colombia.html (Accedido: 2022-08-30)\n",
        "\n",
        "Villate, N. M. (2023). Lo que hay detr´as de la vida de un coleccionista. Retrieved from https://www.elespectador.com/colombia/mas-regiones/ lo-que-hay-detras-de-la-vida-de-un-coleccionista (Accedido: 2022-08-30)\n",
        "\n",
        "Vives Varela, . H. S. L., T. (2021). La codificaci´on y categorizaci´on en la teor´ıa fundamentada, un m´etodo para el an´alisis de los datos cualitativos. Investigaci´on en educaci´on m´edica,, 10 (40), 97-104. doi: https://doi.org/ 10.22201/fm.20075057e.2021.40.21367"
      ],
      "metadata": {
        "id": "PI5bX-nHzPlj"
      }
    }
  ]
}